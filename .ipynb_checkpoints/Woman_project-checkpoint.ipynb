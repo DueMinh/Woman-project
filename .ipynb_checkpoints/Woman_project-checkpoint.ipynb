{
 "cells": [
  {
   "cell_type": "code",
   "execution_count": 22,
   "id": "90b18c74",
   "metadata": {},
   "outputs": [],
   "source": [
    "import pandas as pd\n",
    "import numpy as np\n",
    "import matplotlib.pyplot as plt\n",
    "import matplotlib as mpl\n",
    "\n",
    "import seaborn as sns\n",
    "sns.set()"
   ]
  },
  {
   "cell_type": "code",
   "execution_count": 12,
   "id": "783a9193",
   "metadata": {},
   "outputs": [],
   "source": [
    "datadf = pd.read_csv('C:/Users/ThuyHOANG/code/portfolio-projects/woman-violence-project/Data_woman.csv')\n"
   ]
  },
  {
   "cell_type": "code",
   "execution_count": 13,
   "id": "41690370",
   "metadata": {},
   "outputs": [
    {
     "data": {
      "text/html": [
       "<div>\n",
       "<style scoped>\n",
       "    .dataframe tbody tr th:only-of-type {\n",
       "        vertical-align: middle;\n",
       "    }\n",
       "\n",
       "    .dataframe tbody tr th {\n",
       "        vertical-align: top;\n",
       "    }\n",
       "\n",
       "    .dataframe thead th {\n",
       "        text-align: right;\n",
       "    }\n",
       "</style>\n",
       "<table border=\"1\" class=\"dataframe\">\n",
       "  <thead>\n",
       "    <tr style=\"text-align: right;\">\n",
       "      <th></th>\n",
       "      <th>RecordID</th>\n",
       "      <th>Country</th>\n",
       "      <th>Gender</th>\n",
       "      <th>Demographics Question</th>\n",
       "      <th>Demographics Response</th>\n",
       "      <th>Question</th>\n",
       "      <th>Survey Year</th>\n",
       "      <th>Value</th>\n",
       "    </tr>\n",
       "  </thead>\n",
       "  <tbody>\n",
       "    <tr>\n",
       "      <th>0</th>\n",
       "      <td>1</td>\n",
       "      <td>Afghanistan</td>\n",
       "      <td>F</td>\n",
       "      <td>Marital status</td>\n",
       "      <td>Never married</td>\n",
       "      <td>... if she burns the food</td>\n",
       "      <td>01/01/2015</td>\n",
       "      <td>NaN</td>\n",
       "    </tr>\n",
       "    <tr>\n",
       "      <th>1</th>\n",
       "      <td>1</td>\n",
       "      <td>Afghanistan</td>\n",
       "      <td>F</td>\n",
       "      <td>Education</td>\n",
       "      <td>Higher</td>\n",
       "      <td>... if she burns the food</td>\n",
       "      <td>01/01/2015</td>\n",
       "      <td>10.1</td>\n",
       "    </tr>\n",
       "    <tr>\n",
       "      <th>2</th>\n",
       "      <td>1</td>\n",
       "      <td>Afghanistan</td>\n",
       "      <td>F</td>\n",
       "      <td>Education</td>\n",
       "      <td>Secondary</td>\n",
       "      <td>... if she burns the food</td>\n",
       "      <td>01/01/2015</td>\n",
       "      <td>13.7</td>\n",
       "    </tr>\n",
       "    <tr>\n",
       "      <th>3</th>\n",
       "      <td>1</td>\n",
       "      <td>Afghanistan</td>\n",
       "      <td>F</td>\n",
       "      <td>Education</td>\n",
       "      <td>Primary</td>\n",
       "      <td>... if she burns the food</td>\n",
       "      <td>01/01/2015</td>\n",
       "      <td>13.8</td>\n",
       "    </tr>\n",
       "    <tr>\n",
       "      <th>4</th>\n",
       "      <td>1</td>\n",
       "      <td>Afghanistan</td>\n",
       "      <td>F</td>\n",
       "      <td>Marital status</td>\n",
       "      <td>Widowed, divorced, separated</td>\n",
       "      <td>... if she burns the food</td>\n",
       "      <td>01/01/2015</td>\n",
       "      <td>13.8</td>\n",
       "    </tr>\n",
       "  </tbody>\n",
       "</table>\n",
       "</div>"
      ],
      "text/plain": [
       "   RecordID      Country Gender Demographics Question  \\\n",
       "0         1  Afghanistan      F        Marital status   \n",
       "1         1  Afghanistan      F             Education   \n",
       "2         1  Afghanistan      F             Education   \n",
       "3         1  Afghanistan      F             Education   \n",
       "4         1  Afghanistan      F        Marital status   \n",
       "\n",
       "          Demographics Response                   Question Survey Year  Value  \n",
       "0                 Never married  ... if she burns the food  01/01/2015    NaN  \n",
       "1                        Higher  ... if she burns the food  01/01/2015   10.1  \n",
       "2                     Secondary  ... if she burns the food  01/01/2015   13.7  \n",
       "3                       Primary  ... if she burns the food  01/01/2015   13.8  \n",
       "4  Widowed, divorced, separated  ... if she burns the food  01/01/2015   13.8  "
      ]
     },
     "execution_count": 13,
     "metadata": {},
     "output_type": "execute_result"
    }
   ],
   "source": [
    "datadf.head()"
   ]
  },
  {
   "cell_type": "code",
   "execution_count": 5,
   "id": "4a11f31e",
   "metadata": {},
   "outputs": [
    {
     "name": "stdout",
     "output_type": "stream",
     "text": [
      "<class 'pandas.core.frame.DataFrame'>\n",
      "RangeIndex: 12600 entries, 0 to 12599\n",
      "Data columns (total 8 columns):\n",
      " #   Column                 Non-Null Count  Dtype  \n",
      "---  ------                 --------------  -----  \n",
      " 0   RecordID               12600 non-null  int64  \n",
      " 1   Country                12600 non-null  object \n",
      " 2   Gender                 12600 non-null  object \n",
      " 3   Demographics Question  12600 non-null  object \n",
      " 4   Demographics Response  12600 non-null  object \n",
      " 5   Question               12600 non-null  object \n",
      " 6   Survey Year            12600 non-null  object \n",
      " 7   Value                  11187 non-null  float64\n",
      "dtypes: float64(1), int64(1), object(6)\n",
      "memory usage: 787.6+ KB\n"
     ]
    }
   ],
   "source": [
    "datadf.info()"
   ]
  },
  {
   "cell_type": "code",
   "execution_count": 14,
   "id": "2e3da25a",
   "metadata": {},
   "outputs": [
    {
     "data": {
      "text/plain": [
       "array(['Afghanistan', 'Albania', 'Angola', 'Armenia', 'Azerbaijan',\n",
       "       'Bangladesh', 'Benin', 'Bolivia', 'Burkina Faso', 'Burundi',\n",
       "       'Cambodia', 'Cameroon', 'Chad', 'Colombia', 'Comoros', 'Congo',\n",
       "       'Congo Democratic Republic', \"Cote d'Ivoire\", 'Dominican Republic',\n",
       "       'Egypt', 'Eritrea', 'Eswatini', 'Ethiopia', 'Gabon', 'Gambia',\n",
       "       'Ghana', 'Guatemala', 'Guinea', 'Guyana', 'Haiti', 'Honduras',\n",
       "       'India', 'Indonesia', 'Jordan', 'Kenya', 'Kyrgyz Republic',\n",
       "       'Lesotho', 'Liberia', 'Madagascar', 'Malawi', 'Maldives', 'Mali',\n",
       "       'Moldova', 'Morocco', 'Mozambique', 'Myanmar', 'Namibia', 'Nepal',\n",
       "       'Nicaragua', 'Niger', 'Nigeria', 'Pakistan', 'Peru', 'Philippines',\n",
       "       'Rwanda', 'Sao Tome and Principe', 'Senegal', 'Sierra Leone',\n",
       "       'South Africa', 'Tajikistan', 'Tanzania', 'Timor-Leste', 'Togo',\n",
       "       'Turkey', 'Turkmenistan', 'Uganda', 'Ukraine', 'Yemen', 'Zambia',\n",
       "       'Zimbabwe'], dtype=object)"
      ]
     },
     "execution_count": 14,
     "metadata": {},
     "output_type": "execute_result"
    }
   ],
   "source": [
    "mean_value = datadf['Value'].mean()\n",
    "\n",
    "datadf['Value'] = datadf['Value'].fillna(mean_value)\n",
    "datadf['Country'].unique()\n"
   ]
  },
  {
   "cell_type": "code",
   "execution_count": null,
   "id": "d08c3ac4",
   "metadata": {},
   "outputs": [],
   "source": [
    "#data_groupby_country = datadf.groupby('Country')\n",
    "#data_groupby_country.first()\n",
    "\n",
    "#data_groupby_country_sort = data_groupby_country.sort_values('Value')"
   ]
  },
  {
   "cell_type": "code",
   "execution_count": 15,
   "id": "7f88c704",
   "metadata": {},
   "outputs": [],
   "source": [
    "\n"
   ]
  },
  {
   "cell_type": "markdown",
   "id": "7064d16b",
   "metadata": {},
   "source": [
    "Select answers from different continent and country. For this project, I want to investigate more about Asian people views for the violence. "
   ]
  },
  {
   "cell_type": "code",
   "execution_count": null,
   "id": "1cb74b7b",
   "metadata": {},
   "outputs": [],
   "source": [
    "\n",
    "    "
   ]
  },
  {
   "cell_type": "code",
   "execution_count": null,
   "id": "cf42bec0",
   "metadata": {},
   "outputs": [],
   "source": [
    "\n",
    "Amerique = datadf[(datadf['Country'].isin(['Bolivia','Colombia','Dominican Republic','Guatemala','Haiti','Peru'])) ]\n",
    "Europe = datadf[(datadf['Country'].isin(['','Albania', 'Moldova','Ukraine'])) ]\n",
    "Africa = datadf[(datadf['Country'].isin(['Angola','Benin','Burkina Faso','Burundi','Cameroon','Chad','Comoros','Congo','Congo Democratic Republic',\"Cote d'Ivoire\",'Egypt','Eritrea',\n",
    "                                         'Eswatini','Ethopia','Gabon','Gambia','Ghana','Guyana','Kenya','Lesotho','Liberia' , 'Madagascar', 'Malawi', 'Marocco','Mozambique','Namibia','Nicaragua', 'Niger', 'Nigeria','Rwanda', 'Sao Tome and Principe', 'Senegal', 'Sierra Leone',\n",
    "       'South Africa','Togo','Tanzania','Uganda','Zambia',\n",
    "       'Zimbabwe' ])) ]\n",
    "\n",
    "Asia = datadf[(datadf['Country'].isin(['Armenia','Turkmenistan','Bangladesh','India', 'Maldives','Nepal','Pakistan','Tajikistan','Turkey','Cambodia','Indonesia','Mali','Philippines','Timor-Leste','Yemen','Afghanistan','Azerbaijan', 'Jordan','Kyrgyz Republic'])) ]\n",
    "South_asia = datadf[(datadf['Country'].isin(['Bangladesh','India', 'Maldives','Nepal','Pakistan','Tajikistan','Turkey'])) ]\n",
    "Middle_east = datadf[(datadf['Country'].isin(['Afghanistan','Azerbaijan', 'Jordan','Kyrgyz Republic',])) ]\n",
    "Southest_asia = datadf[(datadf['Country'].isin(['Cambodia','Indonesia','Mali','Philippines','Timor-Leste','Yemen']))]\n"
   ]
  },
  {
   "cell_type": "code",
   "execution_count": 19,
   "id": "007285ab",
   "metadata": {
    "scrolled": true
   },
   "outputs": [
    {
     "data": {
      "text/html": [
       "<div>\n",
       "<style scoped>\n",
       "    .dataframe tbody tr th:only-of-type {\n",
       "        vertical-align: middle;\n",
       "    }\n",
       "\n",
       "    .dataframe tbody tr th {\n",
       "        vertical-align: top;\n",
       "    }\n",
       "\n",
       "    .dataframe thead th {\n",
       "        text-align: right;\n",
       "    }\n",
       "</style>\n",
       "<table border=\"1\" class=\"dataframe\">\n",
       "  <thead>\n",
       "    <tr style=\"text-align: right;\">\n",
       "      <th></th>\n",
       "      <th>RecordID</th>\n",
       "      <th>Value</th>\n",
       "    </tr>\n",
       "  </thead>\n",
       "  <tbody>\n",
       "    <tr>\n",
       "      <th>count</th>\n",
       "      <td>3420.000000</td>\n",
       "      <td>3420.000000</td>\n",
       "    </tr>\n",
       "    <tr>\n",
       "      <th>mean</th>\n",
       "      <td>212.789474</td>\n",
       "      <td>23.224281</td>\n",
       "    </tr>\n",
       "    <tr>\n",
       "      <th>std</th>\n",
       "      <td>121.614791</td>\n",
       "      <td>16.978329</td>\n",
       "    </tr>\n",
       "    <tr>\n",
       "      <th>min</th>\n",
       "      <td>1.000000</td>\n",
       "      <td>0.000000</td>\n",
       "    </tr>\n",
       "    <tr>\n",
       "      <th>25%</th>\n",
       "      <td>111.000000</td>\n",
       "      <td>11.000000</td>\n",
       "    </tr>\n",
       "    <tr>\n",
       "      <th>50%</th>\n",
       "      <td>209.500000</td>\n",
       "      <td>19.762537</td>\n",
       "    </tr>\n",
       "    <tr>\n",
       "      <th>75%</th>\n",
       "      <td>321.000000</td>\n",
       "      <td>30.100000</td>\n",
       "    </tr>\n",
       "    <tr>\n",
       "      <th>max</th>\n",
       "      <td>418.000000</td>\n",
       "      <td>86.900000</td>\n",
       "    </tr>\n",
       "  </tbody>\n",
       "</table>\n",
       "</div>"
      ],
      "text/plain": [
       "          RecordID        Value\n",
       "count  3420.000000  3420.000000\n",
       "mean    212.789474    23.224281\n",
       "std     121.614791    16.978329\n",
       "min       1.000000     0.000000\n",
       "25%     111.000000    11.000000\n",
       "50%     209.500000    19.762537\n",
       "75%     321.000000    30.100000\n",
       "max     418.000000    86.900000"
      ]
     },
     "execution_count": 19,
     "metadata": {},
     "output_type": "execute_result"
    }
   ],
   "source": [
    "Asia.describe()"
   ]
  },
  {
   "cell_type": "code",
   "execution_count": 21,
   "id": "02c781c6",
   "metadata": {},
   "outputs": [
    {
     "name": "stdout",
     "output_type": "stream",
     "text": [
      "<class 'pandas.core.frame.DataFrame'>\n",
      "Int64Index: 3420 entries, 0 to 12239\n",
      "Data columns (total 8 columns):\n",
      " #   Column                 Non-Null Count  Dtype  \n",
      "---  ------                 --------------  -----  \n",
      " 0   RecordID               3420 non-null   int64  \n",
      " 1   Country                3420 non-null   object \n",
      " 2   Gender                 3420 non-null   object \n",
      " 3   Demographics Question  3420 non-null   object \n",
      " 4   Demographics Response  3420 non-null   object \n",
      " 5   Question               3420 non-null   object \n",
      " 6   Survey Year            3420 non-null   object \n",
      " 7   Value                  3420 non-null   float64\n",
      "dtypes: float64(1), int64(1), object(6)\n",
      "memory usage: 240.5+ KB\n"
     ]
    }
   ],
   "source": [
    "Asia.info()"
   ]
  },
  {
   "cell_type": "code",
   "execution_count": 26,
   "id": "0820f8f2",
   "metadata": {},
   "outputs": [
    {
     "data": {
      "text/html": [
       "<div>\n",
       "<style scoped>\n",
       "    .dataframe tbody tr th:only-of-type {\n",
       "        vertical-align: middle;\n",
       "    }\n",
       "\n",
       "    .dataframe tbody tr th {\n",
       "        vertical-align: top;\n",
       "    }\n",
       "\n",
       "    .dataframe thead th {\n",
       "        text-align: right;\n",
       "    }\n",
       "</style>\n",
       "<table border=\"1\" class=\"dataframe\">\n",
       "  <thead>\n",
       "    <tr style=\"text-align: right;\">\n",
       "      <th></th>\n",
       "      <th>Value</th>\n",
       "    </tr>\n",
       "    <tr>\n",
       "      <th>Country</th>\n",
       "      <th></th>\n",
       "    </tr>\n",
       "  </thead>\n",
       "  <tbody>\n",
       "    <tr>\n",
       "      <th>Afghanistan</th>\n",
       "      <td>41.155280</td>\n",
       "    </tr>\n",
       "    <tr>\n",
       "      <th>Armenia</th>\n",
       "      <td>10.234169</td>\n",
       "    </tr>\n",
       "    <tr>\n",
       "      <th>Azerbaijan</th>\n",
       "      <td>31.805836</td>\n",
       "    </tr>\n",
       "    <tr>\n",
       "      <th>Bangladesh</th>\n",
       "      <td>17.408909</td>\n",
       "    </tr>\n",
       "    <tr>\n",
       "      <th>Cambodia</th>\n",
       "      <td>19.460000</td>\n",
       "    </tr>\n",
       "  </tbody>\n",
       "</table>\n",
       "</div>"
      ],
      "text/plain": [
       "                 Value\n",
       "Country               \n",
       "Afghanistan  41.155280\n",
       "Armenia      10.234169\n",
       "Azerbaijan   31.805836\n",
       "Bangladesh   17.408909\n",
       "Cambodia     19.460000"
      ]
     },
     "execution_count": 26,
     "metadata": {},
     "output_type": "execute_result"
    }
   ],
   "source": [
    "        \n",
    "data_plot1 = pd.DataFrame(Asia, columns=['Country', 'Value'])\n",
    "data_plot_agg =  pd.pivot_table(data_plot1, values = 'Value', index = 'Country', aggfunc = np.mean)\n",
    "data_plot_agg.head()\n",
    "data_plot_sorted = data_plot_agg.sort_values(by='Value', ascending=False)\n",
    "#ranking = data_plot1_sorted.head(10)\n",
    "#ranking"
   ]
  }
 ],
 "metadata": {
  "kernelspec": {
   "display_name": "Python 3 (ipykernel)",
   "language": "python",
   "name": "python3"
  },
  "language_info": {
   "codemirror_mode": {
    "name": "ipython",
    "version": 3
   },
   "file_extension": ".py",
   "mimetype": "text/x-python",
   "name": "python",
   "nbconvert_exporter": "python",
   "pygments_lexer": "ipython3",
   "version": "3.9.7"
  }
 },
 "nbformat": 4,
 "nbformat_minor": 5
}
